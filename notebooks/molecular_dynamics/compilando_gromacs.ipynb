{
  "cells": [
    {
      "cell_type": "markdown",
      "source": [
        "# Notebook para compilar **GROMACS** en el Colab\n",
        "\n",
        "Este notebook descarga la versión elegida de [GROMACS desde la web oficial](ftp://ftp.gromacs.org/gromacs), y la compila usando los flags del usuario\n",
        "\n"
      ],
      "metadata": {
        "id": "yCHB9A0JO0kV"
      }
    },
    {
      "cell_type": "markdown",
      "source": [
        "# 1. Carga del drive\n",
        "\n",
        "Primero se carga el drive y se crea el directorio con el nombre de la variable ```gromacs_dir```, la cual por defecto es ```gromacs_md```, aunque puede ser cambiada por el usuario."
      ],
      "metadata": {
        "id": "dTrflr-jf79g"
      }
    },
    {
      "cell_type": "code",
      "execution_count": null,
      "metadata": {
        "id": "cNXw-XnJ0rH3",
        "cellView": "form"
      },
      "outputs": [],
      "source": [
        "import os\n",
        "\n",
        "if not os.path.isdir(\"/content/drive/MyDrive\"):\n",
        "  from google.colab import drive\n",
        "  drive.mount(\"/content/drive\")\n",
        "\n",
        "if not os.path.isdir(\"/content/drive/MyDrive\"):\n",
        "  raise RuntimeError(\"Error: could not connect to Google Drive\")\n",
        "\n",
        "gromacs_dir = \"gromacs_md\" #@param {type: \"string\"}\n",
        "storage = f\"/content/drive/MyDrive/{gromacs_dir}\"\n",
        "os.makedirs(storage, exist_ok=True)\n",
        "%env STORAGE={storage}\n",
        "\n",
        "if \"START\" not in os.environ or not os.environ[\"START\"]:\n",
        "  %env START={os.getcwd()}\n",
        "else:\n",
        "  %cd {os.environ[\"START\"]}"
      ]
    },
    {
      "cell_type": "markdown",
      "source": [
        "# 2. Compilación de GROMACS\n",
        "\n",
        "A continuación se compila **GROMACS** con la versión seleccionada en ```gromacs_vers```, por defecto compila la versión **2024.1**, los flags se pasan en ```gromacs_flags``` los cuales por defecto son ```-DGMX_BUILD_OWN_FFTW=ON -DGMX_GPU=CUDA``` pero pueden pasarse otros a elección del usuario, para más información sobre la compilación de **GROMACS** ver el [manual oficial](https://manual.gromacs.org/current/index.html).\n",
        "\n",
        "Por último, la versión compilada se almacena en el directorio creado en el drive en el paso anterior, este puede usarse en otros notebooks de colab."
      ],
      "metadata": {
        "id": "uoO0cIfnftuP"
      }
    },
    {
      "cell_type": "code",
      "execution_count": null,
      "metadata": {
        "id": "L4yayClAMEv8",
        "cellView": "form"
      },
      "outputs": [],
      "source": [
        "%%bash\n",
        "\n",
        "gromacs_vers=\"2024.1\" #@param {type: \"string\"}\n",
        "gromacs_flags=\"-DGMX_BUILD_OWN_FFTW=ON -DGMX_GPU=CUDA\" #@param {type: \"string\"}\n",
        "cache_gromacs=\"${STORAGE}/gromacs-${gromacs_vers}.tar.gz\"\n",
        "\n",
        "wget -q \"ftp://ftp.gromacs.org/gromacs/gromacs-${gromacs_vers}.tar.gz\"\n",
        "if [[ ! -s \"gromacs-${gromacs_vers}.tar.gz\" ]]; then\n",
        "  echo \"Error: could not download: gromacs-${gromacs_vers}.tar.gz\" >&2\n",
        "  exit 1\n",
        "fi\n",
        "tar -xzf \"gromacs-${gromacs_vers}.tar.gz\"\n",
        "rm \"gromacs-${gromacs_vers}.tar.gz\"\n",
        "cd \"gromacs-${gromacs_vers}\"\n",
        "mkdir \"build\"\n",
        "cd \"build\"\n",
        "cmake .. \"${gromacs_flags}\"\n",
        "make -j $(nproc)\n",
        "make install # -> /usr/local/gromacs\n",
        "# Cache\n",
        "tar -czf \"my_gromacs.tar.gz\" -C \"/usr/local\" \"gromacs\"\n",
        "mv \"my_gromacs.tar.gz\" \"${cache_gromacs}\""
      ]
    },
    {
      "cell_type": "markdown",
      "source": [
        "# 3. Pueba de compilación\n",
        "\n",
        "Esta celda prueba que la compilación sea correcta"
      ],
      "metadata": {
        "id": "zEv48utVfNDe"
      }
    },
    {
      "cell_type": "code",
      "source": [
        "%%bash\n",
        "source /usr/local/gromacs/bin/GMXRC\n",
        "gmx -h"
      ],
      "metadata": {
        "id": "7qauJSlZ7VlT"
      },
      "execution_count": null,
      "outputs": []
    }
  ],
  "metadata": {
    "colab": {
      "provenance": [],
      "gpuType": "T4"
    },
    "kernelspec": {
      "display_name": "Python 3",
      "name": "python3"
    },
    "language_info": {
      "name": "python"
    },
    "accelerator": "GPU"
  },
  "nbformat": 4,
  "nbformat_minor": 0
}